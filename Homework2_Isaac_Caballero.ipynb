{
  "nbformat": 4,
  "nbformat_minor": 0,
  "metadata": {
    "kernelspec": {
      "display_name": "Python 3",
      "language": "python",
      "name": "python3"
    },
    "language_info": {
      "codemirror_mode": {
        "name": "ipython",
        "version": 3
      },
      "file_extension": ".py",
      "mimetype": "text/x-python",
      "name": "python",
      "nbconvert_exporter": "python",
      "pygments_lexer": "ipython3",
      "version": "3.7.9"
    },
    "colab": {
      "name": "Homework2-Isaac-Caballero",
      "provenance": [],
      "include_colab_link": true
    }
  },
  "cells": [
    {
      "cell_type": "markdown",
      "metadata": {
        "id": "view-in-github",
        "colab_type": "text"
      },
      "source": [
        "<a href=\"https://colab.research.google.com/github/EisaacJC/optativa_ciia/blob/main/Homework2_Isaac_Caballero.ipynb\" target=\"_parent\"><img src=\"https://colab.research.google.com/assets/colab-badge.svg\" alt=\"Open In Colab\"/></a>"
      ]
    },
    {
      "cell_type": "markdown",
      "metadata": {
        "id": "y1VmWe7HeW4S"
      },
      "source": [
        "# Homework 2\n",
        "## Emmanuel Isaac Juarez Caballero\n",
        "### Center of artificial intelligence.\n"
      ]
    },
    {
      "cell_type": "markdown",
      "metadata": {
        "id": "LQJ9a_lHek-y"
      },
      "source": [
        "Instalando Wordcloud"
      ]
    },
    {
      "cell_type": "code",
      "metadata": {
        "id": "rRjv4x9SnOBJ",
        "outputId": "107cf09e-a019-4dc7-b49b-02adcdd7d82e",
        "colab": {
          "base_uri": "https://localhost:8080/",
          "height": 68
        }
      },
      "source": [
        "!pip install wordcloud"
      ],
      "execution_count": null,
      "outputs": [
        {
          "output_type": "stream",
          "text": [
            "Requirement already satisfied: wordcloud in /usr/local/lib/python3.6/dist-packages (1.5.0)\n",
            "Requirement already satisfied: pillow in /usr/local/lib/python3.6/dist-packages (from wordcloud) (7.0.0)\n",
            "Requirement already satisfied: numpy>=1.6.1 in /usr/local/lib/python3.6/dist-packages (from wordcloud) (1.18.5)\n"
          ],
          "name": "stdout"
        }
      ]
    },
    {
      "cell_type": "markdown",
      "metadata": {
        "id": "ly7EmLzHeoV8"
      },
      "source": [
        "Librerías usadas en el desarrollo del problema."
      ]
    },
    {
      "cell_type": "code",
      "metadata": {
        "id": "ZwJ3ZUVcnML1"
      },
      "source": [
        "import pandas as pd\n",
        "import numpy as np\n",
        "import matplotlib.pyplot as plt\n",
        "import seaborn as sns\n",
        "from wordcloud import WordCloud, STOPWORDS\n",
        "from tensorflow import keras\n",
        "from tensorflow.keras import layers\n",
        "from pandas import DataFrame"
      ],
      "execution_count": null,
      "outputs": []
    },
    {
      "cell_type": "code",
      "metadata": {
        "id": "CHeFKmJFnML5"
      },
      "source": [
        "df=pd.read_csv(\"/content/StormEvents_2013.csv\")"
      ],
      "execution_count": null,
      "outputs": []
    },
    {
      "cell_type": "code",
      "metadata": {
        "id": "GiL50UjotYpO"
      },
      "source": [
        "df;"
      ],
      "execution_count": null,
      "outputs": []
    },
    {
      "cell_type": "markdown",
      "metadata": {
        "id": "w_brgtxBev4W"
      },
      "source": [
        "Verificación de la estructura"
      ]
    },
    {
      "cell_type": "code",
      "metadata": {
        "id": "TK2DrazGESn8",
        "outputId": "a4e27bdc-21d7-4c29-ac3c-f3aa38d4b446",
        "colab": {
          "base_uri": "https://localhost:8080/",
          "height": 35
        }
      },
      "source": [
        "\"\"\"for element in df[\"Begin_Lat\"]:\n",
        "    print(element)\"\"\""
      ],
      "execution_count": null,
      "outputs": [
        {
          "output_type": "execute_result",
          "data": {
            "application/vnd.google.colaboratory.intrinsic+json": {
              "type": "string"
            },
            "text/plain": [
              "'for element in df[\"Begin_Lat\"]:\\n    print(element)'"
            ]
          },
          "metadata": {
            "tags": []
          },
          "execution_count": 97
        }
      ]
    },
    {
      "cell_type": "markdown",
      "metadata": {
        "id": "kjNwVPpGe4oL"
      },
      "source": [
        "Remplazar los valores na por 0"
      ]
    },
    {
      "cell_type": "code",
      "metadata": {
        "id": "3NDSJDnjnMMA",
        "outputId": "7c917e6f-b0fe-433d-dd84-3488775be412",
        "colab": {
          "base_uri": "https://localhost:8080/",
          "height": 255
        }
      },
      "source": [
        "df=df.fillna(0)\n",
        "df.dropna"
      ],
      "execution_count": null,
      "outputs": [
        {
          "output_type": "execute_result",
          "data": {
            "text/plain": [
              "<bound method DataFrame.dropna of        EpisodeID  ...                                    Event_Narrative\n",
              "0          71313  ...  Three to five inches of snow fell across easte...\n",
              "1          81847  ...  Eight to nine inches of snow fell across easte...\n",
              "2          72356  ...  Five to sixteen inches of snow fell across eas...\n",
              "3          78671  ...                A tree on Harbor Avenue was downed.\n",
              "4          71943  ...  Sixteen to twenty-four inches of snow fell acr...\n",
              "...          ...  ...                                                ...\n",
              "59980      79979  ...  Lake effect snow bands set up over northern an...\n",
              "59981      79979  ...  Lake effect snow bands set up over western Cas...\n",
              "59982      79980  ...  Lake effect snow bands set up over the area du...\n",
              "59983      79980  ...  Lake effect snow bands set up over the area du...\n",
              "59984      79980  ...  Lake effect snow bands set up over the area du...\n",
              "\n",
              "[59985 rows x 23 columns]>"
            ]
          },
          "metadata": {
            "tags": []
          },
          "execution_count": 98
        }
      ]
    },
    {
      "cell_type": "code",
      "metadata": {
        "id": "qi9kdoKAtWg4"
      },
      "source": [
        "df.dropna\n",
        "df.fillna(0)\n",
        "df;"
      ],
      "execution_count": null,
      "outputs": []
    },
    {
      "cell_type": "markdown",
      "metadata": {
        "id": "ZOTjzSa5e-tK"
      },
      "source": [
        "Valores que están presentes en la serie."
      ]
    },
    {
      "cell_type": "code",
      "metadata": {
        "id": "YU_MYAsHnMME",
        "outputId": "46d8108f-00f0-4b1f-bb80-30efafddbfcb",
        "colab": {
          "base_uri": "https://localhost:8080/",
          "height": 221
        }
      },
      "source": [
        "df[\"Event_Type\"].unique() "
      ],
      "execution_count": null,
      "outputs": [
        {
          "output_type": "execute_result",
          "data": {
            "text/plain": [
              "array(['Winter Weather', 'Heavy Snow', 'Strong Wind', 'High Wind',\n",
              "       'Blizzard', 'Hail', 'Flood', 'Thunderstorm Wind', 'Drought',\n",
              "       'High Surf', 'Winter Storm', 'Flash Flood', 'Tornado', 'Dense Fog',\n",
              "       'Marine Thunderstorm Wind', 'Debris Flow', 'Excessive Heat',\n",
              "       'Cold/Wind Chill', 'Lake-Effect Snow', 'Ice Storm',\n",
              "       'Marine High Wind', 'Heavy Rain', 'Funnel Cloud', 'Rip Current',\n",
              "       'Waterspout', 'Frost/Freeze', 'Wildfire', 'Sleet', 'Lightning',\n",
              "       'Dust Storm', 'Heat', 'Extreme Cold/Wind Chill', 'Coastal Flood',\n",
              "       'Tropical Storm', 'Dust Devil', 'Avalanche', 'Marine Hail',\n",
              "       'Marine Dense Fog', 'Marine Strong Wind', 'Hurricane',\n",
              "       'Freezing Fog', 'Astronomical Low Tide', 'Tsunami',\n",
              "       'Storm Surge/Tide', 'Sneakerwave', 'Dense Smoke'], dtype=object)"
            ]
          },
          "metadata": {
            "tags": []
          },
          "execution_count": 100
        }
      ]
    },
    {
      "cell_type": "code",
      "metadata": {
        "id": "ZNdcnPrQnMMG"
      },
      "source": [
        "events2013=df[\"Event_Type\"]"
      ],
      "execution_count": null,
      "outputs": []
    },
    {
      "cell_type": "markdown",
      "metadata": {
        "id": "uOdHPs7efDMa"
      },
      "source": [
        "Creación de DataFrames para cada caso"
      ]
    },
    {
      "cell_type": "code",
      "metadata": {
        "id": "wSYwRKWbnMMI",
        "outputId": "21e9c107-763f-4360-ae76-5d7d26c97c8d",
        "colab": {
          "base_uri": "https://localhost:8080/",
          "height": 1000
        }
      },
      "source": [
        "eventscounts=events2013.value_counts()\n",
        "eventcounts=eventscounts.to_frame()\n",
        "eventcounts=eventcounts.reset_index()\n",
        "eventcounts.columns\n",
        "eventcounts=eventcounts.rename(columns={\"index\":\"Tipo de Evento\",\"Event_Type\":\"Cuenta\"})\n",
        "eventcounts"
      ],
      "execution_count": null,
      "outputs": [
        {
          "output_type": "execute_result",
          "data": {
            "text/html": [
              "<div>\n",
              "<style scoped>\n",
              "    .dataframe tbody tr th:only-of-type {\n",
              "        vertical-align: middle;\n",
              "    }\n",
              "\n",
              "    .dataframe tbody tr th {\n",
              "        vertical-align: top;\n",
              "    }\n",
              "\n",
              "    .dataframe thead th {\n",
              "        text-align: right;\n",
              "    }\n",
              "</style>\n",
              "<table border=\"1\" class=\"dataframe\">\n",
              "  <thead>\n",
              "    <tr style=\"text-align: right;\">\n",
              "      <th></th>\n",
              "      <th>Tipo de Evento</th>\n",
              "      <th>Cuenta</th>\n",
              "    </tr>\n",
              "  </thead>\n",
              "  <tbody>\n",
              "    <tr>\n",
              "      <th>0</th>\n",
              "      <td>Thunderstorm Wind</td>\n",
              "      <td>14355</td>\n",
              "    </tr>\n",
              "    <tr>\n",
              "      <th>1</th>\n",
              "      <td>Hail</td>\n",
              "      <td>9625</td>\n",
              "    </tr>\n",
              "    <tr>\n",
              "      <th>2</th>\n",
              "      <td>Drought</td>\n",
              "      <td>5539</td>\n",
              "    </tr>\n",
              "    <tr>\n",
              "      <th>3</th>\n",
              "      <td>Winter Weather</td>\n",
              "      <td>4669</td>\n",
              "    </tr>\n",
              "    <tr>\n",
              "      <th>4</th>\n",
              "      <td>Flash Flood</td>\n",
              "      <td>4484</td>\n",
              "    </tr>\n",
              "    <tr>\n",
              "      <th>5</th>\n",
              "      <td>Winter Storm</td>\n",
              "      <td>3446</td>\n",
              "    </tr>\n",
              "    <tr>\n",
              "      <th>6</th>\n",
              "      <td>High Wind</td>\n",
              "      <td>2307</td>\n",
              "    </tr>\n",
              "    <tr>\n",
              "      <th>7</th>\n",
              "      <td>Heavy Snow</td>\n",
              "      <td>2225</td>\n",
              "    </tr>\n",
              "    <tr>\n",
              "      <th>8</th>\n",
              "      <td>Flood</td>\n",
              "      <td>2176</td>\n",
              "    </tr>\n",
              "    <tr>\n",
              "      <th>9</th>\n",
              "      <td>Marine Thunderstorm Wind</td>\n",
              "      <td>1388</td>\n",
              "    </tr>\n",
              "    <tr>\n",
              "      <th>10</th>\n",
              "      <td>Heavy Rain</td>\n",
              "      <td>1351</td>\n",
              "    </tr>\n",
              "    <tr>\n",
              "      <th>11</th>\n",
              "      <td>Tornado</td>\n",
              "      <td>1053</td>\n",
              "    </tr>\n",
              "    <tr>\n",
              "      <th>12</th>\n",
              "      <td>Strong Wind</td>\n",
              "      <td>773</td>\n",
              "    </tr>\n",
              "    <tr>\n",
              "      <th>13</th>\n",
              "      <td>Blizzard</td>\n",
              "      <td>691</td>\n",
              "    </tr>\n",
              "    <tr>\n",
              "      <th>14</th>\n",
              "      <td>Frost/Freeze</td>\n",
              "      <td>664</td>\n",
              "    </tr>\n",
              "    <tr>\n",
              "      <th>15</th>\n",
              "      <td>Extreme Cold/Wind Chill</td>\n",
              "      <td>625</td>\n",
              "    </tr>\n",
              "    <tr>\n",
              "      <th>16</th>\n",
              "      <td>Dense Fog</td>\n",
              "      <td>624</td>\n",
              "    </tr>\n",
              "    <tr>\n",
              "      <th>17</th>\n",
              "      <td>Heat</td>\n",
              "      <td>478</td>\n",
              "    </tr>\n",
              "    <tr>\n",
              "      <th>18</th>\n",
              "      <td>Lightning</td>\n",
              "      <td>471</td>\n",
              "    </tr>\n",
              "    <tr>\n",
              "      <th>19</th>\n",
              "      <td>Cold/Wind Chill</td>\n",
              "      <td>459</td>\n",
              "    </tr>\n",
              "    <tr>\n",
              "      <th>20</th>\n",
              "      <td>Ice Storm</td>\n",
              "      <td>452</td>\n",
              "    </tr>\n",
              "    <tr>\n",
              "      <th>21</th>\n",
              "      <td>High Surf</td>\n",
              "      <td>377</td>\n",
              "    </tr>\n",
              "    <tr>\n",
              "      <th>22</th>\n",
              "      <td>Funnel Cloud</td>\n",
              "      <td>312</td>\n",
              "    </tr>\n",
              "    <tr>\n",
              "      <th>23</th>\n",
              "      <td>Lake-Effect Snow</td>\n",
              "      <td>225</td>\n",
              "    </tr>\n",
              "    <tr>\n",
              "      <th>24</th>\n",
              "      <td>Wildfire</td>\n",
              "      <td>210</td>\n",
              "    </tr>\n",
              "    <tr>\n",
              "      <th>25</th>\n",
              "      <td>Excessive Heat</td>\n",
              "      <td>208</td>\n",
              "    </tr>\n",
              "    <tr>\n",
              "      <th>26</th>\n",
              "      <td>Waterspout</td>\n",
              "      <td>201</td>\n",
              "    </tr>\n",
              "    <tr>\n",
              "      <th>27</th>\n",
              "      <td>Coastal Flood</td>\n",
              "      <td>104</td>\n",
              "    </tr>\n",
              "    <tr>\n",
              "      <th>28</th>\n",
              "      <td>Tropical Storm</td>\n",
              "      <td>95</td>\n",
              "    </tr>\n",
              "    <tr>\n",
              "      <th>29</th>\n",
              "      <td>Debris Flow</td>\n",
              "      <td>71</td>\n",
              "    </tr>\n",
              "    <tr>\n",
              "      <th>30</th>\n",
              "      <td>Dust Storm</td>\n",
              "      <td>70</td>\n",
              "    </tr>\n",
              "    <tr>\n",
              "      <th>31</th>\n",
              "      <td>Rip Current</td>\n",
              "      <td>63</td>\n",
              "    </tr>\n",
              "    <tr>\n",
              "      <th>32</th>\n",
              "      <td>Marine High Wind</td>\n",
              "      <td>33</td>\n",
              "    </tr>\n",
              "    <tr>\n",
              "      <th>33</th>\n",
              "      <td>Avalanche</td>\n",
              "      <td>29</td>\n",
              "    </tr>\n",
              "    <tr>\n",
              "      <th>34</th>\n",
              "      <td>Freezing Fog</td>\n",
              "      <td>28</td>\n",
              "    </tr>\n",
              "    <tr>\n",
              "      <th>35</th>\n",
              "      <td>Astronomical Low Tide</td>\n",
              "      <td>28</td>\n",
              "    </tr>\n",
              "    <tr>\n",
              "      <th>36</th>\n",
              "      <td>Marine Hail</td>\n",
              "      <td>22</td>\n",
              "    </tr>\n",
              "    <tr>\n",
              "      <th>37</th>\n",
              "      <td>Sleet</td>\n",
              "      <td>18</td>\n",
              "    </tr>\n",
              "    <tr>\n",
              "      <th>38</th>\n",
              "      <td>Dust Devil</td>\n",
              "      <td>12</td>\n",
              "    </tr>\n",
              "    <tr>\n",
              "      <th>39</th>\n",
              "      <td>Marine Strong Wind</td>\n",
              "      <td>7</td>\n",
              "    </tr>\n",
              "    <tr>\n",
              "      <th>40</th>\n",
              "      <td>Tsunami</td>\n",
              "      <td>5</td>\n",
              "    </tr>\n",
              "    <tr>\n",
              "      <th>41</th>\n",
              "      <td>Storm Surge/Tide</td>\n",
              "      <td>4</td>\n",
              "    </tr>\n",
              "    <tr>\n",
              "      <th>42</th>\n",
              "      <td>Dense Smoke</td>\n",
              "      <td>3</td>\n",
              "    </tr>\n",
              "    <tr>\n",
              "      <th>43</th>\n",
              "      <td>Hurricane</td>\n",
              "      <td>2</td>\n",
              "    </tr>\n",
              "    <tr>\n",
              "      <th>44</th>\n",
              "      <td>Sneakerwave</td>\n",
              "      <td>2</td>\n",
              "    </tr>\n",
              "    <tr>\n",
              "      <th>45</th>\n",
              "      <td>Marine Dense Fog</td>\n",
              "      <td>1</td>\n",
              "    </tr>\n",
              "  </tbody>\n",
              "</table>\n",
              "</div>"
            ],
            "text/plain": [
              "              Tipo de Evento  Cuenta\n",
              "0          Thunderstorm Wind   14355\n",
              "1                       Hail    9625\n",
              "2                    Drought    5539\n",
              "3             Winter Weather    4669\n",
              "4                Flash Flood    4484\n",
              "5               Winter Storm    3446\n",
              "6                  High Wind    2307\n",
              "7                 Heavy Snow    2225\n",
              "8                      Flood    2176\n",
              "9   Marine Thunderstorm Wind    1388\n",
              "10                Heavy Rain    1351\n",
              "11                   Tornado    1053\n",
              "12               Strong Wind     773\n",
              "13                  Blizzard     691\n",
              "14              Frost/Freeze     664\n",
              "15   Extreme Cold/Wind Chill     625\n",
              "16                 Dense Fog     624\n",
              "17                      Heat     478\n",
              "18                 Lightning     471\n",
              "19           Cold/Wind Chill     459\n",
              "20                 Ice Storm     452\n",
              "21                 High Surf     377\n",
              "22              Funnel Cloud     312\n",
              "23          Lake-Effect Snow     225\n",
              "24                  Wildfire     210\n",
              "25            Excessive Heat     208\n",
              "26                Waterspout     201\n",
              "27             Coastal Flood     104\n",
              "28            Tropical Storm      95\n",
              "29               Debris Flow      71\n",
              "30                Dust Storm      70\n",
              "31               Rip Current      63\n",
              "32          Marine High Wind      33\n",
              "33                 Avalanche      29\n",
              "34              Freezing Fog      28\n",
              "35     Astronomical Low Tide      28\n",
              "36               Marine Hail      22\n",
              "37                     Sleet      18\n",
              "38                Dust Devil      12\n",
              "39        Marine Strong Wind       7\n",
              "40                   Tsunami       5\n",
              "41          Storm Surge/Tide       4\n",
              "42               Dense Smoke       3\n",
              "43                 Hurricane       2\n",
              "44               Sneakerwave       2\n",
              "45          Marine Dense Fog       1"
            ]
          },
          "metadata": {
            "tags": []
          },
          "execution_count": 102
        }
      ]
    },
    {
      "cell_type": "code",
      "metadata": {
        "id": "CUKy_aRGnMML",
        "outputId": "7c51b457-8b47-4691-a70f-bdfee12990ce",
        "colab": {
          "base_uri": "https://localhost:8080/",
          "height": 34
        }
      },
      "source": [
        "type(eventscounts)"
      ],
      "execution_count": null,
      "outputs": [
        {
          "output_type": "execute_result",
          "data": {
            "text/plain": [
              "pandas.core.series.Series"
            ]
          },
          "metadata": {
            "tags": []
          },
          "execution_count": 103
        }
      ]
    },
    {
      "cell_type": "code",
      "metadata": {
        "id": "446ZcPtonMMQ",
        "outputId": "1f88a0f8-7389-4766-c962-8e3388690b7f",
        "colab": {
          "base_uri": "https://localhost:8080/",
          "height": 409
        }
      },
      "source": [
        "eventscounts.plot.bar(color=\"orange\")"
      ],
      "execution_count": null,
      "outputs": [
        {
          "output_type": "execute_result",
          "data": {
            "text/plain": [
              "<matplotlib.axes._subplots.AxesSubplot at 0x7ff87bf4f4e0>"
            ]
          },
          "metadata": {
            "tags": []
          },
          "execution_count": 104
        },
        {
          "output_type": "display_data",
          "data": {
            "image/png": "[encoded data removed]",
            "text/plain": [
              "<Figure size 432x288 with 1 Axes>"
            ]
          },
          "metadata": {
            "tags": [],
            "needs_background": "light"
          }
        }
      ]
    },
    {
      "cell_type": "code",
      "metadata": {
        "id": "P99OE309raDG",
        "outputId": "84dcd003-8cf3-4012-94b7-7c9f6c44672b",
        "colab": {
          "base_uri": "https://localhost:8080/",
          "height": 1000
        }
      },
      "source": [
        "eventcounts"
      ],
      "execution_count": null,
      "outputs": [
        {
          "output_type": "execute_result",
          "data": {
            "text/html": [
              "<div>\n",
              "<style scoped>\n",
              "    .dataframe tbody tr th:only-of-type {\n",
              "        vertical-align: middle;\n",
              "    }\n",
              "\n",
              "    .dataframe tbody tr th {\n",
              "        vertical-align: top;\n",
              "    }\n",
              "\n",
              "    .dataframe thead th {\n",
              "        text-align: right;\n",
              "    }\n",
              "</style>\n",
              "<table border=\"1\" class=\"dataframe\">\n",
              "  <thead>\n",
              "    <tr style=\"text-align: right;\">\n",
              "      <th></th>\n",
              "      <th>Tipo de Evento</th>\n",
              "      <th>Cuenta</th>\n",
              "    </tr>\n",
              "  </thead>\n",
              "  <tbody>\n",
              "    <tr>\n",
              "      <th>0</th>\n",
              "      <td>Thunderstorm Wind</td>\n",
              "      <td>14355</td>\n",
              "    </tr>\n",
              "    <tr>\n",
              "      <th>1</th>\n",
              "      <td>Hail</td>\n",
              "      <td>9625</td>\n",
              "    </tr>\n",
              "    <tr>\n",
              "      <th>2</th>\n",
              "      <td>Drought</td>\n",
              "      <td>5539</td>\n",
              "    </tr>\n",
              "    <tr>\n",
              "      <th>3</th>\n",
              "      <td>Winter Weather</td>\n",
              "      <td>4669</td>\n",
              "    </tr>\n",
              "    <tr>\n",
              "      <th>4</th>\n",
              "      <td>Flash Flood</td>\n",
              "      <td>4484</td>\n",
              "    </tr>\n",
              "    <tr>\n",
              "      <th>5</th>\n",
              "      <td>Winter Storm</td>\n",
              "      <td>3446</td>\n",
              "    </tr>\n",
              "    <tr>\n",
              "      <th>6</th>\n",
              "      <td>High Wind</td>\n",
              "      <td>2307</td>\n",
              "    </tr>\n",
              "    <tr>\n",
              "      <th>7</th>\n",
              "      <td>Heavy Snow</td>\n",
              "      <td>2225</td>\n",
              "    </tr>\n",
              "    <tr>\n",
              "      <th>8</th>\n",
              "      <td>Flood</td>\n",
              "      <td>2176</td>\n",
              "    </tr>\n",
              "    <tr>\n",
              "      <th>9</th>\n",
              "      <td>Marine Thunderstorm Wind</td>\n",
              "      <td>1388</td>\n",
              "    </tr>\n",
              "    <tr>\n",
              "      <th>10</th>\n",
              "      <td>Heavy Rain</td>\n",
              "      <td>1351</td>\n",
              "    </tr>\n",
              "    <tr>\n",
              "      <th>11</th>\n",
              "      <td>Tornado</td>\n",
              "      <td>1053</td>\n",
              "    </tr>\n",
              "    <tr>\n",
              "      <th>12</th>\n",
              "      <td>Strong Wind</td>\n",
              "      <td>773</td>\n",
              "    </tr>\n",
              "    <tr>\n",
              "      <th>13</th>\n",
              "      <td>Blizzard</td>\n",
              "      <td>691</td>\n",
              "    </tr>\n",
              "    <tr>\n",
              "      <th>14</th>\n",
              "      <td>Frost/Freeze</td>\n",
              "      <td>664</td>\n",
              "    </tr>\n",
              "    <tr>\n",
              "      <th>15</th>\n",
              "      <td>Extreme Cold/Wind Chill</td>\n",
              "      <td>625</td>\n",
              "    </tr>\n",
              "    <tr>\n",
              "      <th>16</th>\n",
              "      <td>Dense Fog</td>\n",
              "      <td>624</td>\n",
              "    </tr>\n",
              "    <tr>\n",
              "      <th>17</th>\n",
              "      <td>Heat</td>\n",
              "      <td>478</td>\n",
              "    </tr>\n",
              "    <tr>\n",
              "      <th>18</th>\n",
              "      <td>Lightning</td>\n",
              "      <td>471</td>\n",
              "    </tr>\n",
              "    <tr>\n",
              "      <th>19</th>\n",
              "      <td>Cold/Wind Chill</td>\n",
              "      <td>459</td>\n",
              "    </tr>\n",
              "    <tr>\n",
              "      <th>20</th>\n",
              "      <td>Ice Storm</td>\n",
              "      <td>452</td>\n",
              "    </tr>\n",
              "    <tr>\n",
              "      <th>21</th>\n",
              "      <td>High Surf</td>\n",
              "      <td>377</td>\n",
              "    </tr>\n",
              "    <tr>\n",
              "      <th>22</th>\n",
              "      <td>Funnel Cloud</td>\n",
              "      <td>312</td>\n",
              "    </tr>\n",
              "    <tr>\n",
              "      <th>23</th>\n",
              "      <td>Lake-Effect Snow</td>\n",
              "      <td>225</td>\n",
              "    </tr>\n",
              "    <tr>\n",
              "      <th>24</th>\n",
              "      <td>Wildfire</td>\n",
              "      <td>210</td>\n",
              "    </tr>\n",
              "    <tr>\n",
              "      <th>25</th>\n",
              "      <td>Excessive Heat</td>\n",
              "      <td>208</td>\n",
              "    </tr>\n",
              "    <tr>\n",
              "      <th>26</th>\n",
              "      <td>Waterspout</td>\n",
              "      <td>201</td>\n",
              "    </tr>\n",
              "    <tr>\n",
              "      <th>27</th>\n",
              "      <td>Coastal Flood</td>\n",
              "      <td>104</td>\n",
              "    </tr>\n",
              "    <tr>\n",
              "      <th>28</th>\n",
              "      <td>Tropical Storm</td>\n",
              "      <td>95</td>\n",
              "    </tr>\n",
              "    <tr>\n",
              "      <th>29</th>\n",
              "      <td>Debris Flow</td>\n",
              "      <td>71</td>\n",
              "    </tr>\n",
              "    <tr>\n",
              "      <th>30</th>\n",
              "      <td>Dust Storm</td>\n",
              "      <td>70</td>\n",
              "    </tr>\n",
              "    <tr>\n",
              "      <th>31</th>\n",
              "      <td>Rip Current</td>\n",
              "      <td>63</td>\n",
              "    </tr>\n",
              "    <tr>\n",
              "      <th>32</th>\n",
              "      <td>Marine High Wind</td>\n",
              "      <td>33</td>\n",
              "    </tr>\n",
              "    <tr>\n",
              "      <th>33</th>\n",
              "      <td>Avalanche</td>\n",
              "      <td>29</td>\n",
              "    </tr>\n",
              "    <tr>\n",
              "      <th>34</th>\n",
              "      <td>Freezing Fog</td>\n",
              "      <td>28</td>\n",
              "    </tr>\n",
              "    <tr>\n",
              "      <th>35</th>\n",
              "      <td>Astronomical Low Tide</td>\n",
              "      <td>28</td>\n",
              "    </tr>\n",
              "    <tr>\n",
              "      <th>36</th>\n",
              "      <td>Marine Hail</td>\n",
              "      <td>22</td>\n",
              "    </tr>\n",
              "    <tr>\n",
              "      <th>37</th>\n",
              "      <td>Sleet</td>\n",
              "      <td>18</td>\n",
              "    </tr>\n",
              "    <tr>\n",
              "      <th>38</th>\n",
              "      <td>Dust Devil</td>\n",
              "      <td>12</td>\n",
              "    </tr>\n",
              "    <tr>\n",
              "      <th>39</th>\n",
              "      <td>Marine Strong Wind</td>\n",
              "      <td>7</td>\n",
              "    </tr>\n",
              "    <tr>\n",
              "      <th>40</th>\n",
              "      <td>Tsunami</td>\n",
              "      <td>5</td>\n",
              "    </tr>\n",
              "    <tr>\n",
              "      <th>41</th>\n",
              "      <td>Storm Surge/Tide</td>\n",
              "      <td>4</td>\n",
              "    </tr>\n",
              "    <tr>\n",
              "      <th>42</th>\n",
              "      <td>Dense Smoke</td>\n",
              "      <td>3</td>\n",
              "    </tr>\n",
              "    <tr>\n",
              "      <th>43</th>\n",
              "      <td>Hurricane</td>\n",
              "      <td>2</td>\n",
              "    </tr>\n",
              "    <tr>\n",
              "      <th>44</th>\n",
              "      <td>Sneakerwave</td>\n",
              "      <td>2</td>\n",
              "    </tr>\n",
              "    <tr>\n",
              "      <th>45</th>\n",
              "      <td>Marine Dense Fog</td>\n",
              "      <td>1</td>\n",
              "    </tr>\n",
              "  </tbody>\n",
              "</table>\n",
              "</div>"
            ],
            "text/plain": [
              "              Tipo de Evento  Cuenta\n",
              "0          Thunderstorm Wind   14355\n",
              "1                       Hail    9625\n",
              "2                    Drought    5539\n",
              "3             Winter Weather    4669\n",
              "4                Flash Flood    4484\n",
              "5               Winter Storm    3446\n",
              "6                  High Wind    2307\n",
              "7                 Heavy Snow    2225\n",
              "8                      Flood    2176\n",
              "9   Marine Thunderstorm Wind    1388\n",
              "10                Heavy Rain    1351\n",
              "11                   Tornado    1053\n",
              "12               Strong Wind     773\n",
              "13                  Blizzard     691\n",
              "14              Frost/Freeze     664\n",
              "15   Extreme Cold/Wind Chill     625\n",
              "16                 Dense Fog     624\n",
              "17                      Heat     478\n",
              "18                 Lightning     471\n",
              "19           Cold/Wind Chill     459\n",
              "20                 Ice Storm     452\n",
              "21                 High Surf     377\n",
              "22              Funnel Cloud     312\n",
              "23          Lake-Effect Snow     225\n",
              "24                  Wildfire     210\n",
              "25            Excessive Heat     208\n",
              "26                Waterspout     201\n",
              "27             Coastal Flood     104\n",
              "28            Tropical Storm      95\n",
              "29               Debris Flow      71\n",
              "30                Dust Storm      70\n",
              "31               Rip Current      63\n",
              "32          Marine High Wind      33\n",
              "33                 Avalanche      29\n",
              "34              Freezing Fog      28\n",
              "35     Astronomical Low Tide      28\n",
              "36               Marine Hail      22\n",
              "37                     Sleet      18\n",
              "38                Dust Devil      12\n",
              "39        Marine Strong Wind       7\n",
              "40                   Tsunami       5\n",
              "41          Storm Surge/Tide       4\n",
              "42               Dense Smoke       3\n",
              "43                 Hurricane       2\n",
              "44               Sneakerwave       2\n",
              "45          Marine Dense Fog       1"
            ]
          },
          "metadata": {
            "tags": []
          },
          "execution_count": 105
        }
      ]
    },
    {
      "cell_type": "code",
      "metadata": {
        "id": "7kZd3CaznMMT",
        "outputId": "9e7c34a3-9aac-40b6-c934-3a66bc1a2e7d",
        "colab": {
          "base_uri": "https://localhost:8080/",
          "height": 1000
        }
      },
      "source": [
        "\n",
        "eventscounts_descending=eventscounts.sort_values(ascending=True, kind='quicksort')\n",
        "eventscounts_descending=eventscounts_descending.to_frame()\n",
        "eventscounts_descending=eventscounts_descending.reset_index()\n",
        "eventscounts_descending=eventscounts_descending.rename(columns={\"index\":\"Tipo de Evento\",\"Event_Type\":\"Cuenta\"})\n",
        "eventscounts_descending"
      ],
      "execution_count": null,
      "outputs": [
        {
          "output_type": "execute_result",
          "data": {
            "text/html": [
              "<div>\n",
              "<style scoped>\n",
              "    .dataframe tbody tr th:only-of-type {\n",
              "        vertical-align: middle;\n",
              "    }\n",
              "\n",
              "    .dataframe tbody tr th {\n",
              "        vertical-align: top;\n",
              "    }\n",
              "\n",
              "    .dataframe thead th {\n",
              "        text-align: right;\n",
              "    }\n",
              "</style>\n",
              "<table border=\"1\" class=\"dataframe\">\n",
              "  <thead>\n",
              "    <tr style=\"text-align: right;\">\n",
              "      <th></th>\n",
              "      <th>Tipo de Evento</th>\n",
              "      <th>Cuenta</th>\n",
              "    </tr>\n",
              "  </thead>\n",
              "  <tbody>\n",
              "    <tr>\n",
              "      <th>0</th>\n",
              "      <td>Marine Dense Fog</td>\n",
              "      <td>1</td>\n",
              "    </tr>\n",
              "    <tr>\n",
              "      <th>1</th>\n",
              "      <td>Sneakerwave</td>\n",
              "      <td>2</td>\n",
              "    </tr>\n",
              "    <tr>\n",
              "      <th>2</th>\n",
              "      <td>Hurricane</td>\n",
              "      <td>2</td>\n",
              "    </tr>\n",
              "    <tr>\n",
              "      <th>3</th>\n",
              "      <td>Dense Smoke</td>\n",
              "      <td>3</td>\n",
              "    </tr>\n",
              "    <tr>\n",
              "      <th>4</th>\n",
              "      <td>Storm Surge/Tide</td>\n",
              "      <td>4</td>\n",
              "    </tr>\n",
              "    <tr>\n",
              "      <th>5</th>\n",
              "      <td>Tsunami</td>\n",
              "      <td>5</td>\n",
              "    </tr>\n",
              "    <tr>\n",
              "      <th>6</th>\n",
              "      <td>Marine Strong Wind</td>\n",
              "      <td>7</td>\n",
              "    </tr>\n",
              "    <tr>\n",
              "      <th>7</th>\n",
              "      <td>Dust Devil</td>\n",
              "      <td>12</td>\n",
              "    </tr>\n",
              "    <tr>\n",
              "      <th>8</th>\n",
              "      <td>Sleet</td>\n",
              "      <td>18</td>\n",
              "    </tr>\n",
              "    <tr>\n",
              "      <th>9</th>\n",
              "      <td>Marine Hail</td>\n",
              "      <td>22</td>\n",
              "    </tr>\n",
              "    <tr>\n",
              "      <th>10</th>\n",
              "      <td>Astronomical Low Tide</td>\n",
              "      <td>28</td>\n",
              "    </tr>\n",
              "    <tr>\n",
              "      <th>11</th>\n",
              "      <td>Freezing Fog</td>\n",
              "      <td>28</td>\n",
              "    </tr>\n",
              "    <tr>\n",
              "      <th>12</th>\n",
              "      <td>Avalanche</td>\n",
              "      <td>29</td>\n",
              "    </tr>\n",
              "    <tr>\n",
              "      <th>13</th>\n",
              "      <td>Marine High Wind</td>\n",
              "      <td>33</td>\n",
              "    </tr>\n",
              "    <tr>\n",
              "      <th>14</th>\n",
              "      <td>Rip Current</td>\n",
              "      <td>63</td>\n",
              "    </tr>\n",
              "    <tr>\n",
              "      <th>15</th>\n",
              "      <td>Dust Storm</td>\n",
              "      <td>70</td>\n",
              "    </tr>\n",
              "    <tr>\n",
              "      <th>16</th>\n",
              "      <td>Debris Flow</td>\n",
              "      <td>71</td>\n",
              "    </tr>\n",
              "    <tr>\n",
              "      <th>17</th>\n",
              "      <td>Tropical Storm</td>\n",
              "      <td>95</td>\n",
              "    </tr>\n",
              "    <tr>\n",
              "      <th>18</th>\n",
              "      <td>Coastal Flood</td>\n",
              "      <td>104</td>\n",
              "    </tr>\n",
              "    <tr>\n",
              "      <th>19</th>\n",
              "      <td>Waterspout</td>\n",
              "      <td>201</td>\n",
              "    </tr>\n",
              "    <tr>\n",
              "      <th>20</th>\n",
              "      <td>Excessive Heat</td>\n",
              "      <td>208</td>\n",
              "    </tr>\n",
              "    <tr>\n",
              "      <th>21</th>\n",
              "      <td>Wildfire</td>\n",
              "      <td>210</td>\n",
              "    </tr>\n",
              "    <tr>\n",
              "      <th>22</th>\n",
              "      <td>Lake-Effect Snow</td>\n",
              "      <td>225</td>\n",
              "    </tr>\n",
              "    <tr>\n",
              "      <th>23</th>\n",
              "      <td>Funnel Cloud</td>\n",
              "      <td>312</td>\n",
              "    </tr>\n",
              "    <tr>\n",
              "      <th>24</th>\n",
              "      <td>High Surf</td>\n",
              "      <td>377</td>\n",
              "    </tr>\n",
              "    <tr>\n",
              "      <th>25</th>\n",
              "      <td>Ice Storm</td>\n",
              "      <td>452</td>\n",
              "    </tr>\n",
              "    <tr>\n",
              "      <th>26</th>\n",
              "      <td>Cold/Wind Chill</td>\n",
              "      <td>459</td>\n",
              "    </tr>\n",
              "    <tr>\n",
              "      <th>27</th>\n",
              "      <td>Lightning</td>\n",
              "      <td>471</td>\n",
              "    </tr>\n",
              "    <tr>\n",
              "      <th>28</th>\n",
              "      <td>Heat</td>\n",
              "      <td>478</td>\n",
              "    </tr>\n",
              "    <tr>\n",
              "      <th>29</th>\n",
              "      <td>Dense Fog</td>\n",
              "      <td>624</td>\n",
              "    </tr>\n",
              "    <tr>\n",
              "      <th>30</th>\n",
              "      <td>Extreme Cold/Wind Chill</td>\n",
              "      <td>625</td>\n",
              "    </tr>\n",
              "    <tr>\n",
              "      <th>31</th>\n",
              "      <td>Frost/Freeze</td>\n",
              "      <td>664</td>\n",
              "    </tr>\n",
              "    <tr>\n",
              "      <th>32</th>\n",
              "      <td>Blizzard</td>\n",
              "      <td>691</td>\n",
              "    </tr>\n",
              "    <tr>\n",
              "      <th>33</th>\n",
              "      <td>Strong Wind</td>\n",
              "      <td>773</td>\n",
              "    </tr>\n",
              "    <tr>\n",
              "      <th>34</th>\n",
              "      <td>Tornado</td>\n",
              "      <td>1053</td>\n",
              "    </tr>\n",
              "    <tr>\n",
              "      <th>35</th>\n",
              "      <td>Heavy Rain</td>\n",
              "      <td>1351</td>\n",
              "    </tr>\n",
              "    <tr>\n",
              "      <th>36</th>\n",
              "      <td>Marine Thunderstorm Wind</td>\n",
              "      <td>1388</td>\n",
              "    </tr>\n",
              "    <tr>\n",
              "      <th>37</th>\n",
              "      <td>Flood</td>\n",
              "      <td>2176</td>\n",
              "    </tr>\n",
              "    <tr>\n",
              "      <th>38</th>\n",
              "      <td>Heavy Snow</td>\n",
              "      <td>2225</td>\n",
              "    </tr>\n",
              "    <tr>\n",
              "      <th>39</th>\n",
              "      <td>High Wind</td>\n",
              "      <td>2307</td>\n",
              "    </tr>\n",
              "    <tr>\n",
              "      <th>40</th>\n",
              "      <td>Winter Storm</td>\n",
              "      <td>3446</td>\n",
              "    </tr>\n",
              "    <tr>\n",
              "      <th>41</th>\n",
              "      <td>Flash Flood</td>\n",
              "      <td>4484</td>\n",
              "    </tr>\n",
              "    <tr>\n",
              "      <th>42</th>\n",
              "      <td>Winter Weather</td>\n",
              "      <td>4669</td>\n",
              "    </tr>\n",
              "    <tr>\n",
              "      <th>43</th>\n",
              "      <td>Drought</td>\n",
              "      <td>5539</td>\n",
              "    </tr>\n",
              "    <tr>\n",
              "      <th>44</th>\n",
              "      <td>Hail</td>\n",
              "      <td>9625</td>\n",
              "    </tr>\n",
              "    <tr>\n",
              "      <th>45</th>\n",
              "      <td>Thunderstorm Wind</td>\n",
              "      <td>14355</td>\n",
              "    </tr>\n",
              "  </tbody>\n",
              "</table>\n",
              "</div>"
            ],
            "text/plain": [
              "              Tipo de Evento  Cuenta\n",
              "0           Marine Dense Fog       1\n",
              "1                Sneakerwave       2\n",
              "2                  Hurricane       2\n",
              "3                Dense Smoke       3\n",
              "4           Storm Surge/Tide       4\n",
              "5                    Tsunami       5\n",
              "6         Marine Strong Wind       7\n",
              "7                 Dust Devil      12\n",
              "8                      Sleet      18\n",
              "9                Marine Hail      22\n",
              "10     Astronomical Low Tide      28\n",
              "11              Freezing Fog      28\n",
              "12                 Avalanche      29\n",
              "13          Marine High Wind      33\n",
              "14               Rip Current      63\n",
              "15                Dust Storm      70\n",
              "16               Debris Flow      71\n",
              "17            Tropical Storm      95\n",
              "18             Coastal Flood     104\n",
              "19                Waterspout     201\n",
              "20            Excessive Heat     208\n",
              "21                  Wildfire     210\n",
              "22          Lake-Effect Snow     225\n",
              "23              Funnel Cloud     312\n",
              "24                 High Surf     377\n",
              "25                 Ice Storm     452\n",
              "26           Cold/Wind Chill     459\n",
              "27                 Lightning     471\n",
              "28                      Heat     478\n",
              "29                 Dense Fog     624\n",
              "30   Extreme Cold/Wind Chill     625\n",
              "31              Frost/Freeze     664\n",
              "32                  Blizzard     691\n",
              "33               Strong Wind     773\n",
              "34                   Tornado    1053\n",
              "35                Heavy Rain    1351\n",
              "36  Marine Thunderstorm Wind    1388\n",
              "37                     Flood    2176\n",
              "38                Heavy Snow    2225\n",
              "39                 High Wind    2307\n",
              "40              Winter Storm    3446\n",
              "41               Flash Flood    4484\n",
              "42            Winter Weather    4669\n",
              "43                   Drought    5539\n",
              "44                      Hail    9625\n",
              "45         Thunderstorm Wind   14355"
            ]
          },
          "metadata": {
            "tags": []
          },
          "execution_count": 106
        }
      ]
    },
    {
      "cell_type": "code",
      "metadata": {
        "id": "Mmqyr0tvnMMU",
        "outputId": "1b5f42fc-b26a-4005-efd5-8d25f879340b",
        "colab": {
          "base_uri": "https://localhost:8080/",
          "height": 285
        }
      },
      "source": [
        "eventscounts_descending.plot.bar(color=\"orange\")"
      ],
      "execution_count": null,
      "outputs": [
        {
          "output_type": "execute_result",
          "data": {
            "text/plain": [
              "<matplotlib.axes._subplots.AxesSubplot at 0x7ff87be5f2e8>"
            ]
          },
          "metadata": {
            "tags": []
          },
          "execution_count": 107
        },
        {
          "output_type": "display_data",
          "data": {
            "image/png": "[encoded data removed]",
            "text/plain": [
              "<Figure size 432x288 with 1 Axes>"
            ]
          },
          "metadata": {
            "tags": [],
            "needs_background": "light"
          }
        }
      ]
    },
    {
      "cell_type": "markdown",
      "metadata": {
        "id": "iqMaPimRfKH6"
      },
      "source": [
        "Otra posible visualización, que es útil"
      ]
    },
    {
      "cell_type": "code",
      "metadata": {
        "id": "D8dkpbq_nMMW",
        "outputId": "1d4a7c58-af72-4c33-a90d-d713b8a0daa1",
        "colab": {
          "base_uri": "https://localhost:8080/",
          "height": 285
        }
      },
      "source": [
        "eventscounts_descending.plot(rot=\"90\",logy=True)"
      ],
      "execution_count": null,
      "outputs": [
        {
          "output_type": "execute_result",
          "data": {
            "text/plain": [
              "<matplotlib.axes._subplots.AxesSubplot at 0x7ff87bd189e8>"
            ]
          },
          "metadata": {
            "tags": []
          },
          "execution_count": 108
        },
        {
          "output_type": "display_data",
          "data": {
            "image/png": "[encoded data removed]",
            "text/plain": [
              "<Figure size 432x288 with 1 Axes>"
            ]
          },
          "metadata": {
            "tags": [],
            "needs_background": "light"
          }
        }
      ]
    },
    {
      "cell_type": "markdown",
      "metadata": {
        "id": "CIEchjARfOSH"
      },
      "source": [
        "# ListPlot similar al de Wolfram"
      ]
    },
    {
      "cell_type": "code",
      "metadata": {
        "id": "s9UU01ggnMMY",
        "outputId": "b5704a7a-586b-4e92-a1e8-56d05c8b0d84",
        "colab": {
          "base_uri": "https://localhost:8080/",
          "height": 756
        }
      },
      "source": [
        "g=sns.relplot(data=eventcounts, x=\"Tipo de Evento\", y=\"Cuenta\", hue=\"Tipo de Evento\")\n",
        "g.set_xticklabels(rotation=90)\n"
      ],
      "execution_count": null,
      "outputs": [
        {
          "output_type": "execute_result",
          "data": {
            "text/plain": [
              "<seaborn.axisgrid.FacetGrid at 0x7ff87bbed588>"
            ]
          },
          "metadata": {
            "tags": []
          },
          "execution_count": 109
        },
        {
          "output_type": "display_data",
          "data": {
            "image/png": "[encoded data removed]",
            "text/plain": [
              "<Figure size 532.25x360 with 1 Axes>"
            ]
          },
          "metadata": {
            "tags": [],
            "needs_background": "light"
          }
        }
      ]
    },
    {
      "cell_type": "code",
      "metadata": {
        "id": "Lg13h_czorIJ",
        "outputId": "1b5b83e9-a04e-4092-988d-7430a721a650",
        "colab": {
          "base_uri": "https://localhost:8080/",
          "height": 756
        }
      },
      "source": [
        "l=sns.relplot(data=eventscounts_descending, x=\"Tipo de Evento\", y=\"Cuenta\", hue=\"Tipo de Evento\")\n",
        "l.set_xticklabels(rotation=90)\n"
      ],
      "execution_count": null,
      "outputs": [
        {
          "output_type": "execute_result",
          "data": {
            "text/plain": [
              "<seaborn.axisgrid.FacetGrid at 0x7ff87bb9d8d0>"
            ]
          },
          "metadata": {
            "tags": []
          },
          "execution_count": 110
        },
        {
          "output_type": "display_data",
          "data": {
            "image/png": "[encoded data removed]",
            "text/plain": [
              "<Figure size 532.25x360 with 1 Axes>"
            ]
          },
          "metadata": {
            "tags": [],
            "needs_background": "light"
          }
        }
      ]
    },
    {
      "cell_type": "code",
      "metadata": {
        "id": "482wM_GYpNna",
        "outputId": "ac85b8d8-fed3-44a8-c243-1a0d8b2717ea",
        "colab": {
          "base_uri": "https://localhost:8080/",
          "height": 68
        }
      },
      "source": [
        "events2013.values"
      ],
      "execution_count": null,
      "outputs": [
        {
          "output_type": "execute_result",
          "data": {
            "text/plain": [
              "array(['Winter Weather', 'Heavy Snow', 'Heavy Snow', ...,\n",
              "       'Lake-Effect Snow', 'Winter Weather', 'Lake-Effect Snow'],\n",
              "      dtype=object)"
            ]
          },
          "metadata": {
            "tags": []
          },
          "execution_count": 111
        }
      ]
    },
    {
      "cell_type": "code",
      "metadata": {
        "id": "ybWuPhyMooQx"
      },
      "source": [
        "df;"
      ],
      "execution_count": null,
      "outputs": []
    },
    {
      "cell_type": "code",
      "metadata": {
        "id": "KThFkjDitDWj"
      },
      "source": [
        "#df[\"Damage_Property\"]=df[\"Damage_Property\"]%.str.split(pat=\"K\")"
      ],
      "execution_count": null,
      "outputs": []
    },
    {
      "cell_type": "markdown",
      "metadata": {
        "id": "TLRVebqTfdRY"
      },
      "source": [
        "# Corrección de valores para K, M, B"
      ]
    },
    {
      "cell_type": "code",
      "metadata": {
        "id": "Hg7AwPzLtxbr",
        "outputId": "d0c205f4-3ce3-490f-990f-1c81588a99e6",
        "colab": {
          "base_uri": "https://localhost:8080/",
          "height": 419
        }
      },
      "source": [
        "#Para crear un sistema que remplace las abreviaciones podemos establecer un diccionario\n",
        "dct = {'K': '000', 'M': '000000', 'B':'000000000'}\n",
        "df[\"Damage_Property\"]=(pd.to_numeric(df.Damage_Property.str.replace(r'|'.join(dct.keys()),\n",
        "    lambda x: dct[x.group()]), errors='coerce'))\n",
        "df[[\"Damage_Property\"]]"
      ],
      "execution_count": null,
      "outputs": [
        {
          "output_type": "execute_result",
          "data": {
            "text/html": [
              "<div>\n",
              "<style scoped>\n",
              "    .dataframe tbody tr th:only-of-type {\n",
              "        vertical-align: middle;\n",
              "    }\n",
              "\n",
              "    .dataframe tbody tr th {\n",
              "        vertical-align: top;\n",
              "    }\n",
              "\n",
              "    .dataframe thead th {\n",
              "        text-align: right;\n",
              "    }\n",
              "</style>\n",
              "<table border=\"1\" class=\"dataframe\">\n",
              "  <thead>\n",
              "    <tr style=\"text-align: right;\">\n",
              "      <th></th>\n",
              "      <th>Damage_Property</th>\n",
              "    </tr>\n",
              "  </thead>\n",
              "  <tbody>\n",
              "    <tr>\n",
              "      <th>0</th>\n",
              "      <td>0.0</td>\n",
              "    </tr>\n",
              "    <tr>\n",
              "      <th>1</th>\n",
              "      <td>0.0</td>\n",
              "    </tr>\n",
              "    <tr>\n",
              "      <th>2</th>\n",
              "      <td>0.0</td>\n",
              "    </tr>\n",
              "    <tr>\n",
              "      <th>3</th>\n",
              "      <td>3.0</td>\n",
              "    </tr>\n",
              "    <tr>\n",
              "      <th>4</th>\n",
              "      <td>0.0</td>\n",
              "    </tr>\n",
              "    <tr>\n",
              "      <th>...</th>\n",
              "      <td>...</td>\n",
              "    </tr>\n",
              "    <tr>\n",
              "      <th>59980</th>\n",
              "      <td>0.0</td>\n",
              "    </tr>\n",
              "    <tr>\n",
              "      <th>59981</th>\n",
              "      <td>0.0</td>\n",
              "    </tr>\n",
              "    <tr>\n",
              "      <th>59982</th>\n",
              "      <td>0.0</td>\n",
              "    </tr>\n",
              "    <tr>\n",
              "      <th>59983</th>\n",
              "      <td>0.0</td>\n",
              "    </tr>\n",
              "    <tr>\n",
              "      <th>59984</th>\n",
              "      <td>0.0</td>\n",
              "    </tr>\n",
              "  </tbody>\n",
              "</table>\n",
              "<p>59985 rows × 1 columns</p>\n",
              "</div>"
            ],
            "text/plain": [
              "       Damage_Property\n",
              "0                  0.0\n",
              "1                  0.0\n",
              "2                  0.0\n",
              "3                  3.0\n",
              "4                  0.0\n",
              "...                ...\n",
              "59980              0.0\n",
              "59981              0.0\n",
              "59982              0.0\n",
              "59983              0.0\n",
              "59984              0.0\n",
              "\n",
              "[59985 rows x 1 columns]"
            ]
          },
          "metadata": {
            "tags": []
          },
          "execution_count": 114
        }
      ]
    },
    {
      "cell_type": "code",
      "metadata": {
        "id": "aHwXQNAPGF0Z"
      },
      "source": [
        "#df[\"Damage_Crops\"].max()"
      ],
      "execution_count": null,
      "outputs": []
    },
    {
      "cell_type": "code",
      "metadata": {
        "id": "m_wqfSEtZ1o1",
        "outputId": "f17278b2-1ab6-4ef4-f437-26745f1d935f",
        "colab": {
          "base_uri": "https://localhost:8080/",
          "height": 419
        }
      },
      "source": [
        "#df[\"Property_Cost\"]=(pd.to_numeric(df.Property_Cost.str.replace(r'|'.join(dct.keys()),\n",
        " #   lambda y: dct[y.group()]), errors='coerce'))\n",
        "df[\"Damage_Crops\"]=(pd.to_numeric(df.Damage_Crops.str.replace(r'|'.join(dct.keys()),lambda x: dct[x.group()]), errors='coerce'))\n",
        "#df[\"Crop_Cost\"]=(pd.to_numeric(df.Crop_Cost.str.replace(r'|'.join(dct.keys()),\n",
        "  #  lambda t: dct[t.group()]), errors='coerce'))\n",
        "df[[\"Damage_Crops\"]]"
      ],
      "execution_count": null,
      "outputs": [
        {
          "output_type": "execute_result",
          "data": {
            "text/html": [
              "<div>\n",
              "<style scoped>\n",
              "    .dataframe tbody tr th:only-of-type {\n",
              "        vertical-align: middle;\n",
              "    }\n",
              "\n",
              "    .dataframe tbody tr th {\n",
              "        vertical-align: top;\n",
              "    }\n",
              "\n",
              "    .dataframe thead th {\n",
              "        text-align: right;\n",
              "    }\n",
              "</style>\n",
              "<table border=\"1\" class=\"dataframe\">\n",
              "  <thead>\n",
              "    <tr style=\"text-align: right;\">\n",
              "      <th></th>\n",
              "      <th>Damage_Crops</th>\n",
              "    </tr>\n",
              "  </thead>\n",
              "  <tbody>\n",
              "    <tr>\n",
              "      <th>0</th>\n",
              "      <td>0.0</td>\n",
              "    </tr>\n",
              "    <tr>\n",
              "      <th>1</th>\n",
              "      <td>0.0</td>\n",
              "    </tr>\n",
              "    <tr>\n",
              "      <th>2</th>\n",
              "      <td>0.0</td>\n",
              "    </tr>\n",
              "    <tr>\n",
              "      <th>3</th>\n",
              "      <td>0.0</td>\n",
              "    </tr>\n",
              "    <tr>\n",
              "      <th>4</th>\n",
              "      <td>0.0</td>\n",
              "    </tr>\n",
              "    <tr>\n",
              "      <th>...</th>\n",
              "      <td>...</td>\n",
              "    </tr>\n",
              "    <tr>\n",
              "      <th>59980</th>\n",
              "      <td>0.0</td>\n",
              "    </tr>\n",
              "    <tr>\n",
              "      <th>59981</th>\n",
              "      <td>0.0</td>\n",
              "    </tr>\n",
              "    <tr>\n",
              "      <th>59982</th>\n",
              "      <td>0.0</td>\n",
              "    </tr>\n",
              "    <tr>\n",
              "      <th>59983</th>\n",
              "      <td>0.0</td>\n",
              "    </tr>\n",
              "    <tr>\n",
              "      <th>59984</th>\n",
              "      <td>0.0</td>\n",
              "    </tr>\n",
              "  </tbody>\n",
              "</table>\n",
              "<p>59985 rows × 1 columns</p>\n",
              "</div>"
            ],
            "text/plain": [
              "       Damage_Crops\n",
              "0               0.0\n",
              "1               0.0\n",
              "2               0.0\n",
              "3               0.0\n",
              "4               0.0\n",
              "...             ...\n",
              "59980           0.0\n",
              "59981           0.0\n",
              "59982           0.0\n",
              "59983           0.0\n",
              "59984           0.0\n",
              "\n",
              "[59985 rows x 1 columns]"
            ]
          },
          "metadata": {
            "tags": []
          },
          "execution_count": 116
        }
      ]
    },
    {
      "cell_type": "code",
      "metadata": {
        "id": "6LgpE5LJDQSj"
      },
      "source": [
        "df[\"Damage_Crops\"].max()\n",
        "df;"
      ],
      "execution_count": null,
      "outputs": []
    },
    {
      "cell_type": "code",
      "metadata": {
        "id": "NVBLRMPOGCDH"
      },
      "source": [
        "eventsDP=df[[\"Damage_Property\"]]"
      ],
      "execution_count": null,
      "outputs": []
    },
    {
      "cell_type": "code",
      "metadata": {
        "id": "BUeTN_kvGe5h",
        "outputId": "a7f9f0aa-4813-47b5-b13c-b03d6be7344f",
        "colab": {
          "base_uri": "https://localhost:8080/",
          "height": 238
        }
      },
      "source": [
        "eventscountsDP=eventsDP.value_counts()\n",
        "eventcountsDP=eventscountsDP.to_frame()\n",
        "eventcountsDP=eventcountsDP.reset_index()\n",
        "eventcountsDP.columns\n",
        "eventcountsDP=eventcountsDP.rename(columns={\"index\":\"Valor\",\"Event_Type\":\"Cuenta\"})\n",
        "eventscountsDP.to_frame()\n",
        "eventscountsDP"
      ],
      "execution_count": null,
      "outputs": [
        {
          "output_type": "execute_result",
          "data": {
            "text/plain": [
              "Damage_Property\n",
              "0.0                37277\n",
              "5.0                 1980\n",
              "1.0                 1788\n",
              "10.0                1594\n",
              "2.0                 1336\n",
              "                   ...  \n",
              "297.0                  1\n",
              "21.7                   1\n",
              "325.0                  1\n",
              "19.0                   1\n",
              "8000.0                 1\n",
              "Length: 263, dtype: int64"
            ]
          },
          "metadata": {
            "tags": []
          },
          "execution_count": 122
        }
      ]
    },
    {
      "cell_type": "code",
      "metadata": {
        "id": "AICQwEOhG09E",
        "outputId": "60bb49a9-5119-45b7-d206-c7c589374145",
        "colab": {
          "base_uri": "https://localhost:8080/",
          "height": 323
        }
      },
      "source": [
        "plt.figure(figsize=(25,5))\n",
        "eventscountsDP.plot.bar(logy=True)\n",
        "plt.show()"
      ],
      "execution_count": null,
      "outputs": [
        {
          "output_type": "display_data",
          "data": {
            "image/png": "[encoded data removed]",
            "text/plain": [
              "<Figure size 1800x360 with 1 Axes>"
            ]
          },
          "metadata": {
            "tags": [],
            "needs_background": "light"
          }
        }
      ]
    },
    {
      "cell_type": "code",
      "metadata": {
        "id": "jO-SdFFhHB_C",
        "outputId": "1f2b04dc-0575-4f40-da91-ff4face692bf",
        "colab": {
          "base_uri": "https://localhost:8080/",
          "height": 282
        }
      },
      "source": [
        "eventscountsDP.plot.kde() \n",
        "#Quizá es más conveniente visualizar a través de la probabilidad que valor tendrá mayor probabilidad de ser encontrado"
      ],
      "execution_count": null,
      "outputs": [
        {
          "output_type": "execute_result",
          "data": {
            "text/plain": [
              "<matplotlib.axes._subplots.AxesSubplot at 0x7ff87b185be0>"
            ]
          },
          "metadata": {
            "tags": []
          },
          "execution_count": 121
        },
        {
          "output_type": "display_data",
          "data": {
            "image/png": "[encoded data removed]",
            "text/plain": [
              "<Figure size 432x288 with 1 Axes>"
            ]
          },
          "metadata": {
            "tags": [],
            "needs_background": "light"
          }
        }
      ]
    }
  ]
}